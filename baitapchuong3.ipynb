{
  "nbformat": 4,
  "nbformat_minor": 0,
  "metadata": {
    "colab": {
      "name": "baitapchuong3.ipynb",
      "provenance": [],
      "authorship_tag": "ABX9TyMV4446UU0/JwqDsvDBsJev",
      "include_colab_link": true
    },
    "kernelspec": {
      "name": "python3",
      "display_name": "Python 3"
    },
    "language_info": {
      "name": "python"
    }
  },
  "cells": [
    {
      "cell_type": "markdown",
      "metadata": {
        "id": "view-in-github",
        "colab_type": "text"
      },
      "source": [
        "<a href=\"https://colab.research.google.com/github/hdat1509/ThToancaocap/blob/main/baitapchuong3.ipynb\" target=\"_parent\"><img src=\"https://colab.research.google.com/assets/colab-badge.svg\" alt=\"Open In Colab\"/></a>"
      ]
    },
    {
      "cell_type": "markdown",
      "source": [
        "TH 1"
      ],
      "metadata": {
        "id": "8dQqXhGpivV_"
      }
    },
    {
      "cell_type": "code",
      "execution_count": 3,
      "metadata": {
        "id": "EC3teeeDcy2D"
      },
      "outputs": [],
      "source": [
        "def luythua(x,n):\n",
        "  kq=1\n",
        "  for i in range(n):\n",
        "    kq=kq*x\n",
        "    return kq"
      ]
    },
    {
      "cell_type": "code",
      "source": [
        "luythua(2,1)"
      ],
      "metadata": {
        "colab": {
          "base_uri": "https://localhost:8080/"
        },
        "id": "9h0MVAkPeD01",
        "outputId": "e569abb3-7b29-4ec7-fc98-38c65bb89a58"
      },
      "execution_count": 4,
      "outputs": [
        {
          "output_type": "execute_result",
          "data": {
            "text/plain": [
              "2"
            ]
          },
          "metadata": {},
          "execution_count": 4
        }
      ]
    },
    {
      "cell_type": "code",
      "source": [
        "luythua(2,0)"
      ],
      "metadata": {
        "id": "9M7AmN5xeQ_m"
      },
      "execution_count": 5,
      "outputs": []
    },
    {
      "cell_type": "markdown",
      "source": [
        "TH 2"
      ],
      "metadata": {
        "id": "fuUrNSUXi0B6"
      }
    },
    {
      "cell_type": "code",
      "source": [
        "while 1=2"
      ],
      "metadata": {
        "id": "ZBWTT-rrY02a",
        "outputId": "ef905ec6-8a32-49c2-95b4-4975b535e12c",
        "colab": {
          "base_uri": "https://localhost:8080/",
          "height": 130
        }
      },
      "execution_count": 6,
      "outputs": [
        {
          "output_type": "error",
          "ename": "SyntaxError",
          "evalue": "ignored",
          "traceback": [
            "\u001b[0;36m  File \u001b[0;32m\"<ipython-input-6-9bdd5a710100>\"\u001b[0;36m, line \u001b[0;32m1\u001b[0m\n\u001b[0;31m    while 1=2\u001b[0m\n\u001b[0m           ^\u001b[0m\n\u001b[0;31mSyntaxError\u001b[0m\u001b[0;31m:\u001b[0m invalid syntax\n"
          ]
        }
      ]
    },
    {
      "cell_type": "code",
      "source": [
        "10*(1/0)"
      ],
      "metadata": {
        "id": "_KR7hl0FZGFV",
        "outputId": "a6e7be4c-7a95-4c76-f70a-17054e8342b1",
        "colab": {
          "base_uri": "https://localhost:8080/",
          "height": 165
        }
      },
      "execution_count": 7,
      "outputs": [
        {
          "output_type": "error",
          "ename": "ZeroDivisionError",
          "evalue": "ignored",
          "traceback": [
            "\u001b[0;31m---------------------------------------------------------------------------\u001b[0m",
            "\u001b[0;31mZeroDivisionError\u001b[0m                         Traceback (most recent call last)",
            "\u001b[0;32m<ipython-input-7-fbc7e86ae71a>\u001b[0m in \u001b[0;36m<module>\u001b[0;34m()\u001b[0m\n\u001b[0;32m----> 1\u001b[0;31m \u001b[0;36m10\u001b[0m\u001b[0;34m*\u001b[0m\u001b[0;34m(\u001b[0m\u001b[0;36m1\u001b[0m\u001b[0;34m/\u001b[0m\u001b[0;36m0\u001b[0m\u001b[0;34m)\u001b[0m\u001b[0;34m\u001b[0m\u001b[0;34m\u001b[0m\u001b[0m\n\u001b[0m",
            "\u001b[0;31mZeroDivisionError\u001b[0m: division by zero"
          ]
        }
      ]
    },
    {
      "cell_type": "code",
      "source": [
        "3*bien_chua_khai_bao/4"
      ],
      "metadata": {
        "id": "bkRVax8FaeOi",
        "outputId": "b613d2d5-5103-4844-9b8b-07999deecbc8",
        "colab": {
          "base_uri": "https://localhost:8080/",
          "height": 165
        }
      },
      "execution_count": 10,
      "outputs": [
        {
          "output_type": "error",
          "ename": "NameError",
          "evalue": "ignored",
          "traceback": [
            "\u001b[0;31m---------------------------------------------------------------------------\u001b[0m",
            "\u001b[0;31mNameError\u001b[0m                                 Traceback (most recent call last)",
            "\u001b[0;32m<ipython-input-10-0b69792181a0>\u001b[0m in \u001b[0;36m<module>\u001b[0;34m()\u001b[0m\n\u001b[0;32m----> 1\u001b[0;31m \u001b[0;36m3\u001b[0m\u001b[0;34m*\u001b[0m\u001b[0mbien_chua_khai_bao\u001b[0m\u001b[0;34m/\u001b[0m\u001b[0;36m4\u001b[0m\u001b[0;34m\u001b[0m\u001b[0;34m\u001b[0m\u001b[0m\n\u001b[0m",
            "\u001b[0;31mNameError\u001b[0m: name 'bien_chua_khai_bao' is not defined"
          ]
        }
      ]
    },
    {
      "cell_type": "code",
      "source": [
        "'ba'+7"
      ],
      "metadata": {
        "id": "Hi-ccUvybHUe",
        "outputId": "7484d88d-bb68-4dc2-d642-ea601700d443",
        "colab": {
          "base_uri": "https://localhost:8080/",
          "height": 165
        }
      },
      "execution_count": 11,
      "outputs": [
        {
          "output_type": "error",
          "ename": "TypeError",
          "evalue": "ignored",
          "traceback": [
            "\u001b[0;31m---------------------------------------------------------------------------\u001b[0m",
            "\u001b[0;31mTypeError\u001b[0m                                 Traceback (most recent call last)",
            "\u001b[0;32m<ipython-input-11-c90c3469dd70>\u001b[0m in \u001b[0;36m<module>\u001b[0;34m()\u001b[0m\n\u001b[0;32m----> 1\u001b[0;31m \u001b[0;34m'ba'\u001b[0m\u001b[0;34m+\u001b[0m\u001b[0;36m7\u001b[0m\u001b[0;34m\u001b[0m\u001b[0;34m\u001b[0m\u001b[0m\n\u001b[0m",
            "\u001b[0;31mTypeError\u001b[0m: can only concatenate str (not \"int\") to str"
          ]
        }
      ]
    },
    {
      "cell_type": "code",
      "source": [
        "'ba'+(1/0)"
      ],
      "metadata": {
        "id": "uqTG6ywijSH9",
        "outputId": "39d7275c-8b99-4ac7-e24c-fae113e73a5b",
        "colab": {
          "base_uri": "https://localhost:8080/",
          "height": 165
        }
      },
      "execution_count": 13,
      "outputs": [
        {
          "output_type": "error",
          "ename": "ZeroDivisionError",
          "evalue": "ignored",
          "traceback": [
            "\u001b[0;31m---------------------------------------------------------------------------\u001b[0m",
            "\u001b[0;31mZeroDivisionError\u001b[0m                         Traceback (most recent call last)",
            "\u001b[0;32m<ipython-input-13-8ee4105b9dad>\u001b[0m in \u001b[0;36m<module>\u001b[0;34m()\u001b[0m\n\u001b[0;32m----> 1\u001b[0;31m \u001b[0;34m'ba'\u001b[0m\u001b[0;34m+\u001b[0m\u001b[0;34m(\u001b[0m\u001b[0;36m1\u001b[0m\u001b[0;34m/\u001b[0m\u001b[0;36m0\u001b[0m\u001b[0;34m)\u001b[0m\u001b[0;34m\u001b[0m\u001b[0;34m\u001b[0m\u001b[0m\n\u001b[0m",
            "\u001b[0;31mZeroDivisionError\u001b[0m: division by zero"
          ]
        }
      ]
    },
    {
      "cell_type": "markdown",
      "source": [
        "TH 3"
      ],
      "metadata": {
        "id": "Y8wtMp_xjlee"
      }
    },
    {
      "cell_type": "code",
      "source": [
        "x=int(input('x= '))\n",
        "try:\n",
        "  n=10/x\n",
        "except:\n",
        "  print('Lỗi')"
      ],
      "metadata": {
        "id": "3fbUGH6AZToY",
        "outputId": "bb25be88-9adf-412c-c83c-fd3ea1c58a3f",
        "colab": {
          "base_uri": "https://localhost:8080/"
        }
      },
      "execution_count": 14,
      "outputs": [
        {
          "name": "stdout",
          "output_type": "stream",
          "text": [
            "x= 2\n"
          ]
        }
      ]
    },
    {
      "cell_type": "markdown",
      "source": [
        "TH 4"
      ],
      "metadata": {
        "id": "M_ACHdSZj5g5"
      }
    },
    {
      "cell_type": "code",
      "source": [
        "n=int(input('Nhập vào một số nguyên: '))"
      ],
      "metadata": {
        "colab": {
          "base_uri": "https://localhost:8080/"
        },
        "id": "ewPvJKQ4e1Sb",
        "outputId": "5ceeeee2-3e52-4afa-b0f9-6e4da32210f0"
      },
      "execution_count": null,
      "outputs": [
        {
          "name": "stdout",
          "output_type": "stream",
          "text": [
            "Nhập vào một số nguyên: 56\n"
          ]
        }
      ]
    },
    {
      "cell_type": "code",
      "source": [
        "type(n)"
      ],
      "metadata": {
        "colab": {
          "base_uri": "https://localhost:8080/"
        },
        "id": "a81zv78jfxK0",
        "outputId": "4bee6feb-9245-4d63-b592-dcaf019a232f"
      },
      "execution_count": null,
      "outputs": [
        {
          "output_type": "execute_result",
          "data": {
            "text/plain": [
              "int"
            ]
          },
          "metadata": {},
          "execution_count": 22
        }
      ]
    },
    {
      "cell_type": "code",
      "source": [
        "n=int(input('Nhập vào một số nguyên: '))"
      ],
      "metadata": {
        "colab": {
          "base_uri": "https://localhost:8080/",
          "height": 182
        },
        "id": "9BkRxORIf2ac",
        "outputId": "47063deb-e0da-4e46-c99b-ebeb1e6f0859"
      },
      "execution_count": null,
      "outputs": [
        {
          "name": "stdout",
          "output_type": "stream",
          "text": [
            "Nhập vào một số nguyên: hello\n"
          ]
        },
        {
          "output_type": "error",
          "ename": "ValueError",
          "evalue": "ignored",
          "traceback": [
            "\u001b[0;31m---------------------------------------------------------------------------\u001b[0m",
            "\u001b[0;31mValueError\u001b[0m                                Traceback (most recent call last)",
            "\u001b[0;32m<ipython-input-23-e7ca9b828081>\u001b[0m in \u001b[0;36m<module>\u001b[0;34m()\u001b[0m\n\u001b[0;32m----> 1\u001b[0;31m \u001b[0mn\u001b[0m\u001b[0;34m=\u001b[0m\u001b[0mint\u001b[0m\u001b[0;34m(\u001b[0m\u001b[0minput\u001b[0m\u001b[0;34m(\u001b[0m\u001b[0;34m'Nhập vào một số nguyên: '\u001b[0m\u001b[0;34m)\u001b[0m\u001b[0;34m)\u001b[0m\u001b[0;34m\u001b[0m\u001b[0;34m\u001b[0m\u001b[0m\n\u001b[0m",
            "\u001b[0;31mValueError\u001b[0m: invalid literal for int() with base 10: 'hello'"
          ]
        }
      ]
    },
    {
      "cell_type": "code",
      "source": [
        "try:\n",
        "  n=int(input('Nhập vào một số nguyên: '))\n",
        "except:\n",
        "  print('Lỗi nhập liệu')"
      ],
      "metadata": {
        "colab": {
          "base_uri": "https://localhost:8080/"
        },
        "id": "LIHmkMMMgmvD",
        "outputId": "bf14c8c8-e01a-445a-bc9b-18ce5a01371c"
      },
      "execution_count": null,
      "outputs": [
        {
          "output_type": "stream",
          "name": "stdout",
          "text": [
            "Nhập vào một số nguyên: hello\n",
            "Lỗi nhập liệu\n"
          ]
        }
      ]
    },
    {
      "cell_type": "code",
      "source": [
        "while True:\n",
        "  try:\n",
        "    n=int(input('Nhập vào một số nguyên: '))\n",
        "    break\n",
        "  except:\n",
        "    print('Lỗi nhập liệu, nhập lại.')"
      ],
      "metadata": {
        "colab": {
          "base_uri": "https://localhost:8080/"
        },
        "id": "vewPNIKqhDGo",
        "outputId": "ba8e14b4-5932-420c-d817-c0f814d6c910"
      },
      "execution_count": null,
      "outputs": [
        {
          "name": "stdout",
          "output_type": "stream",
          "text": [
            "Nhập vào một số nguyên: 56\n"
          ]
        }
      ]
    },
    {
      "cell_type": "code",
      "source": [
        "while True:\n",
        "  try:\n",
        "    n=int(input('Nhập vào một số nguyên: '))\n",
        "    break\n",
        "  except:\n",
        "    print('Lỗi nhập liệu, nhập lại.')"
      ],
      "metadata": {
        "colab": {
          "base_uri": "https://localhost:8080/"
        },
        "id": "rPMW2Y1xjXlB",
        "outputId": "1b9968e3-bb27-44c3-b4a6-bdfe798f3960"
      },
      "execution_count": null,
      "outputs": [
        {
          "name": "stdout",
          "output_type": "stream",
          "text": [
            "Nhập vào một số nguyên: hello\n",
            "Lỗi nhập liệu, nhập lại.\n",
            "Nhập vào một số nguyên: 56\n"
          ]
        }
      ]
    },
    {
      "cell_type": "code",
      "source": [
        "while True:\n",
        "  try:\n",
        "    n=int(input('Nhập vào một số nguyên: '))\n",
        "  except:\n",
        "    print('Số vừa nhập sai.')\n",
        "  else:\n",
        "    print('Số vừa nhập là: '+str(n))\n",
        "    break\n",
        "  finally:\n",
        "    print('Đã hoành thành chương trình')"
      ],
      "metadata": {
        "id": "J93JL5cB6W6w",
        "outputId": "0b372280-03d5-409b-a56b-fbd5d7352a5f",
        "colab": {
          "base_uri": "https://localhost:8080/"
        }
      },
      "execution_count": 1,
      "outputs": [
        {
          "output_type": "stream",
          "name": "stdout",
          "text": [
            "Nhập vào một số nguyên: 56\n",
            "Số vừa nhập là: 56\n",
            "Đã hoành thành chương trình\n"
          ]
        }
      ]
    },
    {
      "cell_type": "markdown",
      "source": [
        "TH 5"
      ],
      "metadata": {
        "id": "8Aymlo65k17x"
      }
    },
    {
      "cell_type": "code",
      "source": [
        "def frange (batdau, ketthuc, buocnhay):\n",
        "  day_kq=[]\n",
        "  while batdau<ketthuc:\n",
        "      day_kq.append(batdau)\n",
        "      batdau=batdau+buocnhay\n",
        "  return day_kq"
      ],
      "metadata": {
        "id": "mCHZLzCOYlmB"
      },
      "execution_count": 12,
      "outputs": []
    },
    {
      "cell_type": "code",
      "source": [
        "tu0den2=frange(0,2,0.2)"
      ],
      "metadata": {
        "id": "LEODYsLeneoQ"
      },
      "execution_count": 15,
      "outputs": []
    },
    {
      "cell_type": "code",
      "source": [
        "tu0den2"
      ],
      "metadata": {
        "id": "0en9KWEQnrRZ",
        "outputId": "1a44e6b0-85e5-4b94-a131-a1ed4fac5e83",
        "colab": {
          "base_uri": "https://localhost:8080/"
        }
      },
      "execution_count": 16,
      "outputs": [
        {
          "output_type": "execute_result",
          "data": {
            "text/plain": [
              "[0,\n",
              " 0.2,\n",
              " 0.4,\n",
              " 0.6000000000000001,\n",
              " 0.8,\n",
              " 1.0,\n",
              " 1.2,\n",
              " 1.4,\n",
              " 1.5999999999999999,\n",
              " 1.7999999999999998,\n",
              " 1.9999999999999998]"
            ]
          },
          "metadata": {},
          "execution_count": 16
        }
      ]
    },
    {
      "cell_type": "markdown",
      "source": [
        "TH 6"
      ],
      "metadata": {
        "id": "1vHVfim1n1sz"
      }
    },
    {
      "cell_type": "markdown",
      "source": [
        "Phân đoạn 1"
      ],
      "metadata": {
        "id": "ngk4ciNAn7F9"
      }
    },
    {
      "cell_type": "code",
      "source": [
        "from matplotlib import pyplot as plt\n",
        "import math\n"
      ],
      "metadata": {
        "id": "2Zg-cy11n3f0"
      },
      "execution_count": 22,
      "outputs": []
    },
    {
      "cell_type": "markdown",
      "source": [
        "Phân đoạn 2"
      ],
      "metadata": {
        "id": "zp0LEBgJogg6"
      }
    },
    {
      "cell_type": "markdown",
      "source": [
        "Hàm 1: Hàm vẽ đồ thị"
      ],
      "metadata": {
        "id": "w3_V_QBho7uv"
      }
    },
    {
      "cell_type": "code",
      "source": [
        "from itertools import  starmap\n",
        "def draw_graph (x,y):\n",
        "  plt.plot(x,y)\n",
        "  plt.xlabel('Trục X')\n",
        "  plt.xlabel('Trục Y')\n",
        "  plt.title('Đồ thị bài toán ném bóng')"
      ],
      "metadata": {
        "id": "lfdK_O6hpL0W"
      },
      "execution_count": 23,
      "outputs": []
    },
    {
      "cell_type": "markdown",
      "source": [
        "Hàm 2:Hàm sử lý về tạo các khoảng số thực đều nhau"
      ],
      "metadata": {
        "id": "Fp6YK7f-r7K_"
      }
    },
    {
      "cell_type": "code",
      "source": [
        "def frange (start, final, intervals):\n",
        "  number=[]\n",
        "  while start< final:\n",
        "    number.append(start)\n",
        "    start=start+intervals\n",
        "    return number"
      ],
      "metadata": {
        "id": "DetbbInUsRJq"
      },
      "execution_count": 24,
      "outputs": []
    },
    {
      "cell_type": "markdown",
      "source": [
        "Hàm 3: Hàm tính toán các dãy X,Y để vẽ đồ thị tương ướng với hàm đạn đạo:"
      ],
      "metadata": {
        "id": "mQ4dpZRBo-nU"
      }
    },
    {
      "cell_type": "code",
      "source": [
        "def draw_trajectory(u,theta):\n",
        "  import math\n",
        "  g=9.8\n",
        "  theta=math.radians(theta)\n",
        "  t_flight=2*u*math.sin(theta)/g\n",
        "  intervals=frange(0,t_flight,0.001)\n",
        "  x=[]\n",
        "  y=[]\n",
        "  for t in intervals:\n",
        "    x.append(u*math.cos(theta)*g)\n",
        "    y.append(u*math.sin(theta)*g-0.5*g*t*t)\n",
        "    draw_graph(x,y)"
      ],
      "metadata": {
        "id": "a6dSmo6OojLa"
      },
      "execution_count": 32,
      "outputs": []
    },
    {
      "cell_type": "markdown",
      "source": [
        "Phân đoạn 3:"
      ],
      "metadata": {
        "id": "o8DtT-i_zYcG"
      }
    },
    {
      "cell_type": "code",
      "source": [
        "if __name__=='_main_':\n",
        "  try:\n",
        "    u=float(input('Nhập vận tốc ban đầu (m/s): '))\n",
        "    theta=float(input('Nhập góc bay (degrees): '))\n",
        "  except ValueError:\n",
        "    print('Nhập giá trị sai')\n",
        "  else:\n",
        "    draw_trajectory(u,theta)\n",
        "    plt.show()\n",
        "  finally:\n",
        "    print('Hoàn thành chương trình')"
      ],
      "metadata": {
        "id": "7cFxIUyKvkb2"
      },
      "execution_count": 34,
      "outputs": []
    }
  ]
}