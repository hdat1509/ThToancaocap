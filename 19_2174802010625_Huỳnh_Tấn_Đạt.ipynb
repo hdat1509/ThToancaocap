{
  "nbformat": 4,
  "nbformat_minor": 0,
  "metadata": {
    "colab": {
      "name": "19_2174802010625_Huỳnh_Tấn_Đạt.ipynb",
      "provenance": [],
      "authorship_tag": "ABX9TyNMXRkD5DPdZy+Rnqd4yAWy",
      "include_colab_link": true
    },
    "kernelspec": {
      "name": "python3",
      "display_name": "Python 3"
    },
    "language_info": {
      "name": "python"
    }
  },
  "cells": [
    {
      "cell_type": "markdown",
      "metadata": {
        "id": "view-in-github",
        "colab_type": "text"
      },
      "source": [
        "<a href=\"https://colab.research.google.com/github/hdat1509/ThToancaocap/blob/main/19_2174802010625_Hu%E1%BB%B3nh_T%E1%BA%A5n_%C4%90%E1%BA%A1t.ipynb\" target=\"_parent\"><img src=\"https://colab.research.google.com/assets/colab-badge.svg\" alt=\"Open In Colab\"/></a>"
      ]
    },
    {
      "cell_type": "markdown",
      "source": [
        "Bài 1"
      ],
      "metadata": {
        "id": "Jz3XDzMYY5aV"
      }
    },
    {
      "cell_type": "code",
      "execution_count": 1,
      "metadata": {
        "id": "3pzaBuFoYoOX"
      },
      "outputs": [],
      "source": [
        "from sympy import Integral, Symbol\n",
        "x=Symbol('x')"
      ]
    },
    {
      "cell_type": "code",
      "source": [
        "2"
      ],
      "metadata": {
        "colab": {
          "base_uri": "https://localhost:8080/"
        },
        "id": "a1kIWsSzeWmJ",
        "outputId": "31fe4221-7c0b-403e-fd5c-f4739181cb30"
      },
      "execution_count": 3,
      "outputs": [
        {
          "output_type": "execute_result",
          "data": {
            "text/plain": [
              "2"
            ]
          },
          "metadata": {},
          "execution_count": 3
        }
      ]
    },
    {
      "cell_type": "code",
      "source": [
        "from sympy import Derivative, Symbol\n",
        "x=Symbol('x')\n",
        "f=(2*x-1)/(x+2)\n",
        "Derivative(f, x). doit()"
      ],
      "metadata": {
        "colab": {
          "base_uri": "https://localhost:8080/",
          "height": 58
        },
        "id": "lIL9p3Q-eUzd",
        "outputId": "24cf853b-4a75-4858-9430-8663c5106209"
      },
      "execution_count": 2,
      "outputs": [
        {
          "output_type": "execute_result",
          "data": {
            "text/plain": [
              "2/(x + 2) - (2*x - 1)/(x + 2)**2"
            ],
            "text/latex": "$\\displaystyle \\frac{2}{x + 2} - \\frac{2 x - 1}{\\left(x + 2\\right)^{2}}$"
          },
          "metadata": {},
          "execution_count": 2
        }
      ]
    },
    {
      "cell_type": "markdown",
      "source": [
        "Bài 2"
      ],
      "metadata": {
        "id": "oeaelqx0ZAVV"
      }
    },
    {
      "cell_type": "code",
      "source": [
        "from sympy import Symbol, limit\n",
        "x= Symbol('x')\n",
        "limit(x*x*sin(1/2), x, 0). doit()"
      ],
      "metadata": {
        "colab": {
          "base_uri": "https://localhost:8080/",
          "height": 38
        },
        "id": "3swP_-xPZEWM",
        "outputId": "17071edd-8b26-49e1-fdf5-56067633b2cd"
      },
      "execution_count": 8,
      "outputs": [
        {
          "output_type": "execute_result",
          "data": {
            "text/plain": [
              "0"
            ],
            "text/latex": "$\\displaystyle 0$"
          },
          "metadata": {},
          "execution_count": 8
        }
      ]
    },
    {
      "cell_type": "markdown",
      "source": [
        "Bài 3"
      ],
      "metadata": {
        "id": "3Y8XbYScZCK3"
      }
    },
    {
      "cell_type": "code",
      "source": [
        "from sympy import Symbol, limit\n",
        "x= Symbol('x')\n",
        "limit((1+x+x*x+x*x*x)/(1+x), x, 0, dir='+'). doit()"
      ],
      "metadata": {
        "colab": {
          "base_uri": "https://localhost:8080/",
          "height": 38
        },
        "id": "UxjI5SmvZDmc",
        "outputId": "d9442963-6b8c-4afe-d972-3e0256d2e441"
      },
      "execution_count": 7,
      "outputs": [
        {
          "output_type": "execute_result",
          "data": {
            "text/plain": [
              "1"
            ],
            "text/latex": "$\\displaystyle 1$"
          },
          "metadata": {},
          "execution_count": 7
        }
      ]
    }
  ]
}