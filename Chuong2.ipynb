{
  "nbformat": 4,
  "nbformat_minor": 0,
  "metadata": {
    "colab": {
      "name": "Chuong2.ipynb",
      "provenance": [],
      "authorship_tag": "ABX9TyM/LnIauEv6l92VHsmzF96H",
      "include_colab_link": true
    },
    "kernelspec": {
      "name": "python3",
      "display_name": "Python 3"
    },
    "language_info": {
      "name": "python"
    }
  },
  "cells": [
    {
      "cell_type": "markdown",
      "metadata": {
        "id": "view-in-github",
        "colab_type": "text"
      },
      "source": [
        "<a href=\"https://colab.research.google.com/github/hdat1509/ThToancaocap/blob/main/Chuong2.ipynb\" target=\"_parent\"><img src=\"https://colab.research.google.com/assets/colab-badge.svg\" alt=\"Open In Colab\"/></a>"
      ]
    },
    {
      "cell_type": "code",
      "execution_count": 1,
      "metadata": {
        "id": "O3lEMNVv7OaK"
      },
      "outputs": [],
      "source": [
        "chuoitinhtoan=\"a*b+c\"\n",
        "a=5\n",
        "b=6\n",
        "c=9\n"
      ]
    },
    {
      "cell_type": "code",
      "source": [
        "eval(chuoitinhtoan)"
      ],
      "metadata": {
        "colab": {
          "base_uri": "https://localhost:8080/"
        },
        "id": "EMJR_gJC7xhZ",
        "outputId": "71978d47-b327-477d-d230-d447cf08dc78"
      },
      "execution_count": 2,
      "outputs": [
        {
          "output_type": "execute_result",
          "data": {
            "text/plain": [
              "39"
            ]
          },
          "metadata": {},
          "execution_count": 2
        }
      ]
    },
    {
      "cell_type": "code",
      "source": [
        ""
      ],
      "metadata": {
        "id": "_qbHOFwb74ip"
      },
      "execution_count": null,
      "outputs": []
    }
  ]
}