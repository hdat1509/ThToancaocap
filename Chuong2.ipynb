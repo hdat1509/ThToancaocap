{
  "nbformat": 4,
  "nbformat_minor": 0,
  "metadata": {
    "colab": {
      "name": "Chuong2.ipynb",
      "provenance": [],
      "authorship_tag": "ABX9TyNwattgwi4EzbPxsp2zsyDc",
      "include_colab_link": true
    },
    "kernelspec": {
      "name": "python3",
      "display_name": "Python 3"
    },
    "language_info": {
      "name": "python"
    }
  },
  "cells": [
    {
      "cell_type": "markdown",
      "metadata": {
        "id": "view-in-github",
        "colab_type": "text"
      },
      "source": [
        "<a href=\"https://colab.research.google.com/github/hdat1509/ThToancaocap/blob/main/Chuong2.ipynb\" target=\"_parent\"><img src=\"https://colab.research.google.com/assets/colab-badge.svg\" alt=\"Open In Colab\"/></a>"
      ]
    },
    {
      "cell_type": "code",
      "execution_count": null,
      "metadata": {
        "id": "O3lEMNVv7OaK"
      },
      "outputs": [],
      "source": [
        "chuoitinhtoan=\"a*b+c\"\n",
        "a=5\n",
        "b=6\n",
        "c=9\n"
      ]
    },
    {
      "cell_type": "code",
      "source": [
        "eval(chuoitinhtoan)"
      ],
      "metadata": {
        "colab": {
          "base_uri": "https://localhost:8080/"
        },
        "id": "EMJR_gJC7xhZ",
        "outputId": "71978d47-b327-477d-d230-d447cf08dc78"
      },
      "execution_count": null,
      "outputs": [
        {
          "output_type": "execute_result",
          "data": {
            "text/plain": [
              "39"
            ]
          },
          "metadata": {},
          "execution_count": 2
        }
      ]
    },
    {
      "cell_type": "code",
      "source": [
        "import sympy"
      ],
      "metadata": {
        "id": "_qbHOFwb74ip"
      },
      "execution_count": 3,
      "outputs": []
    },
    {
      "cell_type": "code",
      "source": [
        "from sympy import  Symbol"
      ],
      "metadata": {
        "id": "XBSHtaE582oM"
      },
      "execution_count": 5,
      "outputs": []
    },
    {
      "cell_type": "code",
      "source": [
        "x=Symbol('x')"
      ],
      "metadata": {
        "id": "ZOcCiH8Z8oaj"
      },
      "execution_count": 6,
      "outputs": []
    },
    {
      "cell_type": "code",
      "source": [
        "y=Symbol('y')"
      ],
      "metadata": {
        "id": "hZd_B8kW8_w9"
      },
      "execution_count": 7,
      "outputs": []
    },
    {
      "cell_type": "code",
      "source": [
        "bieuthuc=x+y"
      ],
      "metadata": {
        "id": "GcsYwz9E9Dm6"
      },
      "execution_count": 8,
      "outputs": []
    },
    {
      "cell_type": "code",
      "source": [
        "thaytheso=bieuthuc.subs({x:10, y:5})"
      ],
      "metadata": {
        "id": "afow6YIj9Ln4"
      },
      "execution_count": 11,
      "outputs": []
    },
    {
      "cell_type": "code",
      "source": [
        "thaytheso"
      ],
      "metadata": {
        "id": "TcfXgyMb9fjz",
        "outputId": "358f8760-02df-4f13-8f96-abf25021ecfa",
        "colab": {
          "base_uri": "https://localhost:8080/",
          "height": 38
        }
      },
      "execution_count": 12,
      "outputs": [
        {
          "output_type": "execute_result",
          "data": {
            "text/latex": "$\\displaystyle 15$",
            "text/plain": [
              "15"
            ]
          },
          "metadata": {},
          "execution_count": 12
        }
      ]
    },
    {
      "cell_type": "code",
      "source": [
        "u=Symbol('u')"
      ],
      "metadata": {
        "id": "26vJ5Exk9iY8"
      },
      "execution_count": 13,
      "outputs": []
    },
    {
      "cell_type": "code",
      "source": [
        "v=Symbol('v')"
      ],
      "metadata": {
        "id": "ZOdbBmo79qME"
      },
      "execution_count": 14,
      "outputs": []
    },
    {
      "cell_type": "code",
      "source": [
        "bieuthuc_theo_uv=bieuthuc.subs({x:u, y:v})"
      ],
      "metadata": {
        "id": "gB3SYgzo9vS2"
      },
      "execution_count": 15,
      "outputs": []
    },
    {
      "cell_type": "code",
      "source": [
        "bieuthuc_theo_uv"
      ],
      "metadata": {
        "id": "9w7Y-yVT-RKh",
        "outputId": "54892eab-12b9-4df2-a28a-d990a9126ed5",
        "colab": {
          "base_uri": "https://localhost:8080/",
          "height": 39
        }
      },
      "execution_count": 16,
      "outputs": [
        {
          "output_type": "execute_result",
          "data": {
            "text/latex": "$\\displaystyle u + v$",
            "text/plain": [
              "u + v"
            ]
          },
          "metadata": {},
          "execution_count": 16
        }
      ]
    },
    {
      "cell_type": "code",
      "source": [
        "thaythe_tinhtoan=bieuthuc.subs({x:2*u*v, y:u**2+v**2})"
      ],
      "metadata": {
        "id": "WI0Fj355-Vyt"
      },
      "execution_count": 17,
      "outputs": []
    },
    {
      "cell_type": "code",
      "source": [
        "thaythe_tinhtoan"
      ],
      "metadata": {
        "id": "XSzhnwjm_BVe",
        "outputId": "78646849-194a-4aa7-c863-6f5cb69b1706",
        "colab": {
          "base_uri": "https://localhost:8080/",
          "height": 39
        }
      },
      "execution_count": 18,
      "outputs": [
        {
          "output_type": "execute_result",
          "data": {
            "text/latex": "$\\displaystyle u^{2} + 2 u v + v^{2}$",
            "text/plain": [
              "u**2 + 2*u*v + v**2"
            ]
          },
          "metadata": {},
          "execution_count": 18
        }
      ]
    },
    {
      "cell_type": "code",
      "source": [
        "bieuthuc=x+y"
      ],
      "metadata": {
        "id": "13-xBFuT_Eur"
      },
      "execution_count": 19,
      "outputs": []
    },
    {
      "cell_type": "code",
      "source": [
        "bieuthuc2=x**2+y**2"
      ],
      "metadata": {
        "id": "vS8f98mMAk2Q"
      },
      "execution_count": 20,
      "outputs": []
    },
    {
      "cell_type": "code",
      "source": [
        "a=Symbol('a')"
      ],
      "metadata": {
        "id": "YWpbi22_A438"
      },
      "execution_count": 22,
      "outputs": []
    },
    {
      "cell_type": "code",
      "source": [
        "from sympy import sin,cos"
      ],
      "metadata": {
        "id": "eoBQFl8GBBIl"
      },
      "execution_count": 23,
      "outputs": []
    },
    {
      "cell_type": "code",
      "source": [
        "bieuthuc_theo_uv=bieuthuc2.subs({x:a*sin(u), y:a*cos(u)})"
      ],
      "metadata": {
        "id": "adN878dwFYsH"
      },
      "execution_count": 25,
      "outputs": []
    },
    {
      "cell_type": "code",
      "source": [
        "bieuthuc_theo_uv"
      ],
      "metadata": {
        "id": "pCq1E-vVGCYA",
        "outputId": "f5caac86-c658-4157-f329-8a989b79ae39",
        "colab": {
          "base_uri": "https://localhost:8080/",
          "height": 39
        }
      },
      "execution_count": 26,
      "outputs": [
        {
          "output_type": "execute_result",
          "data": {
            "text/latex": "$\\displaystyle a^{2} \\sin^{2}{\\left(u \\right)} + a^{2} \\cos^{2}{\\left(u \\right)}$",
            "text/plain": [
              "a**2*sin(u)**2 + a**2*cos(u)**2"
            ]
          },
          "metadata": {},
          "execution_count": 26
        }
      ]
    },
    {
      "cell_type": "code",
      "source": [
        "bieuthuc_theo_uv.simplify()"
      ],
      "metadata": {
        "id": "e_H_WPMRGOHI",
        "outputId": "e102714a-765d-4d43-d44a-62060f80e13c",
        "colab": {
          "base_uri": "https://localhost:8080/",
          "height": 39
        }
      },
      "execution_count": 27,
      "outputs": [
        {
          "output_type": "execute_result",
          "data": {
            "text/latex": "$\\displaystyle a^{2}$",
            "text/plain": [
              "a**2"
            ]
          },
          "metadata": {},
          "execution_count": 27
        }
      ]
    },
    {
      "cell_type": "code",
      "source": [
        "danhsach_so=['10', '15', '20']"
      ],
      "metadata": {
        "id": "44rYaP4EGXbv"
      },
      "execution_count": 42,
      "outputs": []
    },
    {
      "cell_type": "code",
      "source": [
        "danhsach_so[0]"
      ],
      "metadata": {
        "id": "7LDPyKdXGfJf",
        "outputId": "6c3e3e73-1922-4256-b378-125a0c2275a9",
        "colab": {
          "base_uri": "https://localhost:8080/",
          "height": 35
        }
      },
      "execution_count": 44,
      "outputs": [
        {
          "output_type": "execute_result",
          "data": {
            "application/vnd.google.colaboratory.intrinsic+json": {
              "type": "string"
            },
            "text/plain": [
              "'10'"
            ]
          },
          "metadata": {},
          "execution_count": 44
        }
      ]
    },
    {
      "cell_type": "code",
      "source": [
        "danhsach_so[1]"
      ],
      "metadata": {
        "id": "oaIDzTXSJT6A",
        "outputId": "f3ac14e2-2aa8-4830-f1b9-59d7cba5c3b7",
        "colab": {
          "base_uri": "https://localhost:8080/",
          "height": 35
        }
      },
      "execution_count": 45,
      "outputs": [
        {
          "output_type": "execute_result",
          "data": {
            "application/vnd.google.colaboratory.intrinsic+json": {
              "type": "string"
            },
            "text/plain": [
              "'15'"
            ]
          },
          "metadata": {},
          "execution_count": 45
        }
      ]
    },
    {
      "cell_type": "code",
      "source": [
        "danhsach_so[2]"
      ],
      "metadata": {
        "id": "-PSuL4kJJYCu",
        "outputId": "0d2a0baf-c156-4a33-d368-abf6272f03a9",
        "colab": {
          "base_uri": "https://localhost:8080/",
          "height": 35
        }
      },
      "execution_count": 46,
      "outputs": [
        {
          "output_type": "execute_result",
          "data": {
            "application/vnd.google.colaboratory.intrinsic+json": {
              "type": "string"
            },
            "text/plain": [
              "'20'"
            ]
          },
          "metadata": {},
          "execution_count": 46
        }
      ]
    },
    {
      "cell_type": "code",
      "source": [
        "ds=[1,2,3]"
      ],
      "metadata": {
        "id": "YKQuRfrqJaWk"
      },
      "execution_count": 47,
      "outputs": []
    },
    {
      "cell_type": "code",
      "source": [
        "for so in ds:\n",
        "  print(so)"
      ],
      "metadata": {
        "id": "vaGq44-_J2EB",
        "outputId": "fcd5f170-82ab-41c7-d024-ea324ec6598c",
        "colab": {
          "base_uri": "https://localhost:8080/"
        }
      },
      "execution_count": 49,
      "outputs": [
        {
          "output_type": "stream",
          "name": "stdout",
          "text": [
            "1\n",
            "2\n",
            "3\n"
          ]
        }
      ]
    },
    {
      "cell_type": "code",
      "source": [
        "ds=[10,11,12]"
      ],
      "metadata": {
        "id": "DlzW57AYKZAY"
      },
      "execution_count": null,
      "outputs": []
    },
    {
      "cell_type": "code",
      "source": [
        "for chiso, giatri in enumerate(ds):\n",
        "  print(chiso, giatri)"
      ],
      "metadata": {
        "id": "6cqGsQseKcid",
        "outputId": "c9173ec7-1842-4e19-9529-8c2bc606f84a",
        "colab": {
          "base_uri": "https://localhost:8080/"
        }
      },
      "execution_count": 51,
      "outputs": [
        {
          "output_type": "stream",
          "name": "stdout",
          "text": [
            "0 1\n",
            "1 2\n",
            "2 3\n"
          ]
        }
      ]
    },
    {
      "cell_type": "code",
      "source": [
        "x_numbers=[1,6,8]"
      ],
      "metadata": {
        "id": "LBczmhioK3ks"
      },
      "execution_count": 52,
      "outputs": []
    },
    {
      "cell_type": "code",
      "source": [
        "y_numbers=[2,5,9]"
      ],
      "metadata": {
        "id": "pyjKGMp9LGIL"
      },
      "execution_count": 53,
      "outputs": []
    },
    {
      "cell_type": "code",
      "source": [
        "from pylab import plot,show"
      ],
      "metadata": {
        "id": "qQR_zFspLL8-"
      },
      "execution_count": 54,
      "outputs": []
    },
    {
      "cell_type": "code",
      "source": [
        "plot(x_numbers, y_numbers)"
      ],
      "metadata": {
        "id": "YJ4ddEZ5LeoB",
        "outputId": "1ff946d7-5b31-4f58-d9ef-243c44df8bfe",
        "colab": {
          "base_uri": "https://localhost:8080/",
          "height": 282
        }
      },
      "execution_count": 59,
      "outputs": [
        {
          "output_type": "execute_result",
          "data": {
            "text/plain": [
              "[<matplotlib.lines.Line2D at 0x7f10a7537b10>]"
            ]
          },
          "metadata": {},
          "execution_count": 59
        },
        {
          "output_type": "display_data",
          "data": {
            "image/png": "[encoded data removed]",
            "text/plain": [
              "<Figure size 432x288 with 1 Axes>"
            ]
          },
          "metadata": {
            "needs_background": "light"
          }
        }
      ]
    },
    {
      "cell_type": "code",
      "source": [
        "show(x_numbers, y_numbers)"
      ],
      "metadata": {
        "id": "EK0tFbYqML3m"
      },
      "execution_count": 61,
      "outputs": []
    },
    {
      "cell_type": "code",
      "source": [
        "plot(x_numbers, y_numbers, marker='o')\n",
        "show()"
      ],
      "metadata": {
        "id": "zkpcmb2lMZr4",
        "outputId": "257eed56-04b2-47ae-8239-e3792d23963b",
        "colab": {
          "base_uri": "https://localhost:8080/",
          "height": 265
        }
      },
      "execution_count": 64,
      "outputs": [
        {
          "output_type": "display_data",
          "data": {
            "image/png": "[encoded data removed]",
            "text/plain": [
              "<Figure size 432x288 with 1 Axes>"
            ]
          },
          "metadata": {
            "needs_background": "light"
          }
        }
      ]
    },
    {
      "cell_type": "code",
      "source": [
        ""
      ],
      "metadata": {
        "id": "QLTW4q7MM0ke"
      },
      "execution_count": null,
      "outputs": []
    }
  ]
}