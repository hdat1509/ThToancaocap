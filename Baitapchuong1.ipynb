{
  "nbformat": 4,
  "nbformat_minor": 0,
  "metadata": {
    "colab": {
      "name": "Baitapchuong1.ipynb",
      "provenance": [],
      "authorship_tag": "ABX9TyOLsO6FV/E+BTAbb3Mezlo/",
      "include_colab_link": true
    },
    "kernelspec": {
      "name": "python3",
      "display_name": "Python 3"
    },
    "language_info": {
      "name": "python"
    }
  },
  "cells": [
    {
      "cell_type": "markdown",
      "metadata": {
        "id": "view-in-github",
        "colab_type": "text"
      },
      "source": [
        "<a href=\"https://colab.research.google.com/github/hdat1509/ThToancaocap/blob/main/Baitapchuong1.ipynb\" target=\"_parent\"><img src=\"https://colab.research.google.com/assets/colab-badge.svg\" alt=\"Open In Colab\"/></a>"
      ]
    },
    {
      "cell_type": "code",
      "execution_count": 2,
      "metadata": {
        "colab": {
          "base_uri": "https://localhost:8080/"
        },
        "id": "08a-iGvdrwzb",
        "outputId": "66005187-1629-4ef1-ff0e-dfb6f60893bc"
      },
      "outputs": [
        {
          "output_type": "stream",
          "name": "stdout",
          "text": [
            "Hello\n"
          ]
        }
      ],
      "source": [
        "print('Hello')"
      ]
    },
    {
      "cell_type": "code",
      "source": [
        "N=3\n",
        "dayS=[1/2**k for k in range(0,N)]"
      ],
      "metadata": {
        "id": "9xRnGBvD0QAX"
      },
      "execution_count": 16,
      "outputs": []
    },
    {
      "cell_type": "code",
      "source": [
        "len(dayS)"
      ],
      "metadata": {
        "id": "1kwtmhfI0qKT",
        "outputId": "4eaaabdf-75bf-4645-981d-0d7fc7d44a78",
        "colab": {
          "base_uri": "https://localhost:8080/"
        }
      },
      "execution_count": 21,
      "outputs": [
        {
          "output_type": "execute_result",
          "data": {
            "text/plain": [
              "3"
            ]
          },
          "metadata": {},
          "execution_count": 21
        }
      ]
    },
    {
      "cell_type": "code",
      "source": [
        "sum(dayS)"
      ],
      "metadata": {
        "id": "wG4b_x2h0tOq",
        "outputId": "fae7b23a-7e75-45ac-d5db-ab775efe300a",
        "colab": {
          "base_uri": "https://localhost:8080/"
        }
      },
      "execution_count": 19,
      "outputs": [
        {
          "output_type": "execute_result",
          "data": {
            "text/plain": [
              "1.75"
            ]
          },
          "metadata": {},
          "execution_count": 19
        }
      ]
    },
    {
      "cell_type": "code",
      "source": [
        "n=1000\n",
        "X=[2*k/n for k in range(0,n+1)]"
      ],
      "metadata": {
        "id": "mWlXdQhG2L3x"
      },
      "execution_count": null,
      "outputs": []
    },
    {
      "cell_type": "code",
      "source": [
        "S=0\n",
        "for"
      ],
      "metadata": {
        "id": "YRhv2q0x2tU-"
      },
      "execution_count": null,
      "outputs": []
    }
  ]
}