{
  "nbformat": 4,
  "nbformat_minor": 0,
  "metadata": {
    "colab": {
      "name": "Baitapchuong1.ipynb",
      "provenance": [],
      "authorship_tag": "ABX9TyPS91KEj3EUfe7OnCsd0Vzi",
      "include_colab_link": true
    },
    "kernelspec": {
      "name": "python3",
      "display_name": "Python 3"
    },
    "language_info": {
      "name": "python"
    }
  },
  "cells": [
    {
      "cell_type": "markdown",
      "metadata": {
        "id": "view-in-github",
        "colab_type": "text"
      },
      "source": [
        "<a href=\"https://colab.research.google.com/github/hdat1509/ThToancaocap/blob/main/Baitapchuong1.ipynb\" target=\"_parent\"><img src=\"https://colab.research.google.com/assets/colab-badge.svg\" alt=\"Open In Colab\"/></a>"
      ]
    },
    {
      "cell_type": "code",
      "execution_count": 110,
      "metadata": {
        "colab": {
          "base_uri": "https://localhost:8080/"
        },
        "id": "08a-iGvdrwzb",
        "outputId": "a8f0f601-93e2-46fc-be04-baa09f0703e1"
      },
      "outputs": [
        {
          "output_type": "stream",
          "name": "stdout",
          "text": [
            "Hello\n"
          ]
        }
      ],
      "source": [
        "print('Hello')"
      ]
    },
    {
      "cell_type": "code",
      "source": [
        "N=3\n",
        "dayS=[1/2**k for k in range(0,N)]"
      ],
      "metadata": {
        "id": "9xRnGBvD0QAX"
      },
      "execution_count": 111,
      "outputs": []
    },
    {
      "cell_type": "code",
      "source": [
        "len(dayS)"
      ],
      "metadata": {
        "id": "1kwtmhfI0qKT",
        "outputId": "e205a54b-cdcf-49e1-cfd7-42b52aeec699",
        "colab": {
          "base_uri": "https://localhost:8080/"
        }
      },
      "execution_count": 112,
      "outputs": [
        {
          "output_type": "execute_result",
          "data": {
            "text/plain": [
              "3"
            ]
          },
          "metadata": {},
          "execution_count": 112
        }
      ]
    },
    {
      "cell_type": "code",
      "source": [
        "sum(dayS)"
      ],
      "metadata": {
        "id": "wG4b_x2h0tOq",
        "outputId": "5b054757-4de8-4e5f-f631-b008191decda",
        "colab": {
          "base_uri": "https://localhost:8080/"
        }
      },
      "execution_count": 113,
      "outputs": [
        {
          "output_type": "execute_result",
          "data": {
            "text/plain": [
              "1.75"
            ]
          },
          "metadata": {},
          "execution_count": 113
        }
      ]
    },
    {
      "cell_type": "code",
      "source": [
        "n=1000\n",
        "X=[(2-0)*k/n for k in range(0,n+1)]\n",
        "S=0\n",
        "for k in range(1,n+1):\n",
        "  S=S+X[k]**2*(X[k]-X[k-1])\n",
        "print(S)"
      ],
      "metadata": {
        "id": "YRhv2q0x2tU-",
        "outputId": "ce418365-d05a-4f3d-822a-76f08bb70eb8",
        "colab": {
          "base_uri": "https://localhost:8080/"
        }
      },
      "execution_count": 114,
      "outputs": [
        {
          "output_type": "stream",
          "name": "stdout",
          "text": [
            "2.6706680000000027\n"
          ]
        }
      ]
    },
    {
      "cell_type": "code",
      "source": [
        "from sympy import *"
      ],
      "metadata": {
        "id": "_9jI_Fl98gXI"
      },
      "execution_count": 115,
      "outputs": []
    },
    {
      "cell_type": "code",
      "source": [
        "a=Rational(1,2)\n",
        "a"
      ],
      "metadata": {
        "id": "wLyrUNUV-ZHy",
        "outputId": "78e07bed-37ac-4d1a-96c5-7d968c0c7ec2",
        "colab": {
          "base_uri": "https://localhost:8080/",
          "height": 51
        }
      },
      "execution_count": 116,
      "outputs": [
        {
          "output_type": "execute_result",
          "data": {
            "text/latex": "$\\displaystyle \\frac{1}{2}$",
            "text/plain": [
              "1/2"
            ]
          },
          "metadata": {},
          "execution_count": 116
        }
      ]
    },
    {
      "cell_type": "code",
      "source": [
        "oo"
      ],
      "metadata": {
        "id": "LK0A5Nn--eEC",
        "outputId": "8235a473-c7d5-44d5-f4b1-d0298ec6c86a",
        "colab": {
          "base_uri": "https://localhost:8080/",
          "height": 37
        }
      },
      "execution_count": 117,
      "outputs": [
        {
          "output_type": "execute_result",
          "data": {
            "text/latex": "$\\displaystyle \\infty$",
            "text/plain": [
              "oo"
            ]
          },
          "metadata": {},
          "execution_count": 117
        }
      ]
    },
    {
      "cell_type": "code",
      "source": [
        "-oo"
      ],
      "metadata": {
        "id": "JGNQQoaW-yC8",
        "outputId": "52d4f093-59d1-4d80-a7de-a6a25845a9e3",
        "colab": {
          "base_uri": "https://localhost:8080/",
          "height": 37
        }
      },
      "execution_count": 118,
      "outputs": [
        {
          "output_type": "execute_result",
          "data": {
            "text/latex": "$\\displaystyle -\\infty$",
            "text/plain": [
              "-oo"
            ]
          },
          "metadata": {},
          "execution_count": 118
        }
      ]
    },
    {
      "cell_type": "code",
      "source": [
        "oo < 3"
      ],
      "metadata": {
        "id": "OsRQrul1-9fv",
        "outputId": "d9edf28d-bc2a-4eed-f5e9-4ad01127d95c",
        "colab": {
          "base_uri": "https://localhost:8080/",
          "height": 37
        }
      },
      "execution_count": 119,
      "outputs": [
        {
          "output_type": "execute_result",
          "data": {
            "text/latex": "$\\displaystyle \\text{False}$",
            "text/plain": [
              "False"
            ]
          },
          "metadata": {},
          "execution_count": 119
        }
      ]
    },
    {
      "cell_type": "code",
      "source": [
        "-oo < 3"
      ],
      "metadata": {
        "id": "PW-RAcNN_A4t",
        "outputId": "2aa7288a-6e54-437c-8283-3b7d5997828b",
        "colab": {
          "base_uri": "https://localhost:8080/",
          "height": 37
        }
      },
      "execution_count": 120,
      "outputs": [
        {
          "output_type": "execute_result",
          "data": {
            "text/latex": "$\\displaystyle \\text{True}$",
            "text/plain": [
              "True"
            ]
          },
          "metadata": {},
          "execution_count": 120
        }
      ]
    },
    {
      "cell_type": "code",
      "source": [
        "Rational(1,2)+Rational(1,3)"
      ],
      "metadata": {
        "id": "Vlr6Ecbq_Jtw",
        "outputId": "9d1c631d-738d-434b-a76f-c78c55536190",
        "colab": {
          "base_uri": "https://localhost:8080/",
          "height": 51
        }
      },
      "execution_count": 121,
      "outputs": [
        {
          "output_type": "execute_result",
          "data": {
            "text/latex": "$\\displaystyle \\frac{5}{6}$",
            "text/plain": [
              "5/6"
            ]
          },
          "metadata": {},
          "execution_count": 121
        }
      ]
    },
    {
      "cell_type": "code",
      "source": [
        "Rational(1,2)+1"
      ],
      "metadata": {
        "id": "8qSZ4Tpd_Q5t",
        "outputId": "a3c3421f-ca42-4af5-f445-7191bc2a6c7f",
        "colab": {
          "base_uri": "https://localhost:8080/",
          "height": 51
        }
      },
      "execution_count": 122,
      "outputs": [
        {
          "output_type": "execute_result",
          "data": {
            "text/latex": "$\\displaystyle \\frac{3}{2}$",
            "text/plain": [
              "3/2"
            ]
          },
          "metadata": {},
          "execution_count": 122
        }
      ]
    },
    {
      "cell_type": "code",
      "source": [
        "Rational(1,3)+1+1.5"
      ],
      "metadata": {
        "id": "3vDw737y_XAI",
        "outputId": "dfe117ee-faf8-49ed-c9a2-4000b80ac1bc",
        "colab": {
          "base_uri": "https://localhost:8080/",
          "height": 37
        }
      },
      "execution_count": 123,
      "outputs": [
        {
          "output_type": "execute_result",
          "data": {
            "text/latex": "$\\displaystyle 2.83333333333333$",
            "text/plain": [
              "2.83333333333333"
            ]
          },
          "metadata": {},
          "execution_count": 123
        }
      ]
    },
    {
      "cell_type": "code",
      "source": [
        "x=Symbol('x')\n",
        "y=Symbol('y')\n",
        "2*x+3*y"
      ],
      "metadata": {
        "id": "fg7fPYaZ_pkk",
        "outputId": "e2bc9dc9-d9c6-403b-e11c-7e437354201a",
        "colab": {
          "base_uri": "https://localhost:8080/",
          "height": 38
        }
      },
      "execution_count": 124,
      "outputs": [
        {
          "output_type": "execute_result",
          "data": {
            "text/latex": "$\\displaystyle 2 x + 3 y$",
            "text/plain": [
              "2*x + 3*y"
            ]
          },
          "metadata": {},
          "execution_count": 124
        }
      ]
    },
    {
      "cell_type": "code",
      "source": [
        "x+y+x-y"
      ],
      "metadata": {
        "id": "U7tBZbbPGuFV",
        "outputId": "6039cc17-4797-4402-c019-ab5d1e59a8c9",
        "colab": {
          "base_uri": "https://localhost:8080/",
          "height": 38
        }
      },
      "execution_count": 125,
      "outputs": [
        {
          "output_type": "execute_result",
          "data": {
            "text/latex": "$\\displaystyle 2 x$",
            "text/plain": [
              "2*x"
            ]
          },
          "metadata": {},
          "execution_count": 125
        }
      ]
    },
    {
      "cell_type": "code",
      "source": [
        "from sympy.solvers.solvers import denom\n",
        "eq=(1/x)*1/(x-3)\n",
        "dd = denom(eq)\n",
        "print(dd)"
      ],
      "metadata": {
        "id": "qU32Tg_3Dp9y",
        "outputId": "aaebf512-5aee-4089-f206-f250f9d94801",
        "colab": {
          "base_uri": "https://localhost:8080/"
        }
      },
      "execution_count": 126,
      "outputs": [
        {
          "output_type": "stream",
          "name": "stdout",
          "text": [
            "x*(x - 3)\n"
          ]
        }
      ]
    },
    {
      "cell_type": "code",
      "source": [
        "eq=(1/x)*1/(x-3)\n",
        "from sympy.solvers.solvers import denom\n",
        "loai_tru=set()\n",
        "for d in denom(eq):\n",
        "  for s in solve(d):\n",
        "    loai_tru.add(s)\n",
        "print(loai_tru)"
      ],
      "metadata": {
        "id": "xOe27EoKG6hG"
      },
      "execution_count": null,
      "outputs": []
    },
    {
      "cell_type": "code",
      "source": [
        "from sympy import  limit\n",
        "x=symbols('x')\n",
        "limit(1/x,x,0,dir='-').doit()\n"
      ],
      "metadata": {
        "id": "-T6vXtC4IcU1",
        "outputId": "a1606e91-dfda-48b6-dadb-4f806ef5d3a0",
        "colab": {
          "base_uri": "https://localhost:8080/",
          "height": 37
        }
      },
      "execution_count": 128,
      "outputs": [
        {
          "output_type": "execute_result",
          "data": {
            "text/latex": "$\\displaystyle -\\infty$",
            "text/plain": [
              "-oo"
            ]
          },
          "metadata": {},
          "execution_count": 128
        }
      ]
    },
    {
      "cell_type": "code",
      "source": [
        "from sympy import  limit\n",
        "x=symbols('x')\n",
        "limit(1/x,x,0,dir='+').doit()"
      ],
      "metadata": {
        "id": "yxCIpScQI1gR",
        "outputId": "3570ae8c-0e26-4c00-8e52-689e80171e94",
        "colab": {
          "base_uri": "https://localhost:8080/",
          "height": 37
        }
      },
      "execution_count": 129,
      "outputs": [
        {
          "output_type": "execute_result",
          "data": {
            "text/latex": "$\\displaystyle \\infty$",
            "text/plain": [
              "oo"
            ]
          },
          "metadata": {},
          "execution_count": 129
        }
      ]
    },
    {
      "cell_type": "code",
      "source": [
        "from sympy import Symbol, sin\n",
        "Limit(sin(x)/x, x, 0).doit()\n"
      ],
      "metadata": {
        "id": "nQufu9F-LD0U",
        "outputId": "aa7e2470-68cf-4a7a-f40a-ac7be919e955",
        "colab": {
          "base_uri": "https://localhost:8080/",
          "height": 37
        }
      },
      "execution_count": 130,
      "outputs": [
        {
          "output_type": "execute_result",
          "data": {
            "text/latex": "$\\displaystyle 1$",
            "text/plain": [
              "1"
            ]
          },
          "metadata": {},
          "execution_count": 130
        }
      ]
    },
    {
      "cell_type": "code",
      "source": [
        "from sympy import  limit,Symbol,S\n",
        "n=Symbol('n')\n",
        "Limit((1+1/n)**n,n,S.Infinity).doit()"
      ],
      "metadata": {
        "id": "H5ymrdEmMW1S",
        "outputId": "da07b631-75e8-4a0b-d17b-442f4c2d0bda",
        "colab": {
          "base_uri": "https://localhost:8080/",
          "height": 38
        }
      },
      "execution_count": 131,
      "outputs": [
        {
          "output_type": "execute_result",
          "data": {
            "text/latex": "$\\displaystyle e$",
            "text/plain": [
              "E"
            ]
          },
          "metadata": {},
          "execution_count": 131
        }
      ]
    },
    {
      "cell_type": "code",
      "source": [
        "from sympy import  limit,Symbol,S\n",
        "p=Symbol('p', positive=True)\n",
        "r=Symbol('r', positive=True)\n",
        "t=Symbol('t', positive=True)\n",
        "Limit(p*(1+r/n)**(n*t),n,S.Infinity).doit()"
      ],
      "metadata": {
        "id": "1JSnaVv_M5H-",
        "outputId": "ec54b554-2793-4a08-9693-b3204c065b78",
        "colab": {
          "base_uri": "https://localhost:8080/",
          "height": 38
        }
      },
      "execution_count": 139,
      "outputs": [
        {
          "output_type": "execute_result",
          "data": {
            "text/latex": "$\\displaystyle p e^{r t}$",
            "text/plain": [
              "p*exp(r*t)"
            ]
          },
          "metadata": {},
          "execution_count": 139
        }
      ]
    },
    {
      "cell_type": "code",
      "source": [
        "from sympy import Symbol, Limit\n",
        "t=Symbol('t')\n",
        "St=5*t**2+2*t+8\n",
        "t1=Symbol('t1')\n",
        "delta_t=Symbol('delta_t')\n",
        "St1=St.subs({t:1})\n",
        "St1_delta=St.subs({t:t1+delta_t})\n",
        "Limit((St1_delta-St1)/delta_t,delta_t,0).doit()"
      ],
      "metadata": {
        "id": "GA_Vy6ROPl35",
        "outputId": "8fdc07f9-61aa-40ca-f0e3-1e99e91ee7fb",
        "colab": {
          "base_uri": "https://localhost:8080/",
          "height": 38
        }
      },
      "execution_count": 146,
      "outputs": [
        {
          "output_type": "execute_result",
          "data": {
            "text/latex": "$\\displaystyle \\infty \\operatorname{sign}{\\left(5 t_{1}^{2} + 2 t_{1} - 7 \\right)}$",
            "text/plain": [
              "oo*sign(5*t1**2 + 2*t1 - 7)"
            ]
          },
          "metadata": {},
          "execution_count": 146
        }
      ]
    }
  ]
}