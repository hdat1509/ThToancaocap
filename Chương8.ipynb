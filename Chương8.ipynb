{
  "nbformat": 4,
  "nbformat_minor": 0,
  "metadata": {
    "colab": {
      "name": "Chương8.ipynb",
      "provenance": [],
      "authorship_tag": "ABX9TyMInOJJXgf5ysWZcg42visM",
      "include_colab_link": true
    },
    "kernelspec": {
      "name": "python3",
      "display_name": "Python 3"
    },
    "language_info": {
      "name": "python"
    }
  },
  "cells": [
    {
      "cell_type": "markdown",
      "metadata": {
        "id": "view-in-github",
        "colab_type": "text"
      },
      "source": [
        "<a href=\"https://colab.research.google.com/github/hdat1509/ThToancaocap/blob/main/Ch%C6%B0%C6%A1ng8.ipynb\" target=\"_parent\"><img src=\"https://colab.research.google.com/assets/colab-badge.svg\" alt=\"Open In Colab\"/></a>"
      ]
    },
    {
      "cell_type": "markdown",
      "source": [
        "Bài 1a"
      ],
      "metadata": {
        "id": "U7bQmHv0MHJo"
      }
    },
    {
      "cell_type": "code",
      "execution_count": 36,
      "metadata": {
        "colab": {
          "base_uri": "https://localhost:8080/"
        },
        "id": "u-6Z940ELzLV",
        "outputId": "44d30869-27de-43e5-f69d-8814ae1838a0"
      },
      "outputs": [
        {
          "output_type": "execute_result",
          "data": {
            "text/plain": [
              "(3, 5, 7)"
            ]
          },
          "metadata": {},
          "execution_count": 36
        }
      ],
      "source": [
        "y = (3, 5, 7)\n",
        "y\n",
        "(3, 5, 7)"
      ]
    },
    {
      "cell_type": "code",
      "source": [
        "y[1]\n",
        "5"
      ],
      "metadata": {
        "colab": {
          "base_uri": "https://localhost:8080/"
        },
        "id": "UFOZZBkARPjz",
        "outputId": "4a092522-4bdf-4232-ebe3-8485fd4abfe9"
      },
      "execution_count": 34,
      "outputs": [
        {
          "output_type": "execute_result",
          "data": {
            "text/plain": [
              "5"
            ]
          },
          "metadata": {},
          "execution_count": 34
        }
      ]
    },
    {
      "cell_type": "code",
      "source": [
        "y[1]\n",
        "4"
      ],
      "metadata": {
        "colab": {
          "base_uri": "https://localhost:8080/"
        },
        "id": "ahlirGFURTVv",
        "outputId": "f70ab0ed-19dd-457e-d0b5-0980e84b3e48"
      },
      "execution_count": 35,
      "outputs": [
        {
          "output_type": "execute_result",
          "data": {
            "text/plain": [
              "4"
            ]
          },
          "metadata": {},
          "execution_count": 35
        }
      ]
    },
    {
      "cell_type": "markdown",
      "source": [
        "Bài 1b"
      ],
      "metadata": {
        "id": "s4I165sEMIum"
      }
    },
    {
      "cell_type": "code",
      "source": [
        "from __future__ import division\n",
        "10/3"
      ],
      "metadata": {
        "colab": {
          "base_uri": "https://localhost:8080/"
        },
        "id": "AUdOuWd_MqGQ",
        "outputId": "7e34e5a9-dcb6-40e4-99fb-161998bfb629"
      },
      "execution_count": 2,
      "outputs": [
        {
          "output_type": "execute_result",
          "data": {
            "text/plain": [
              "3.3333333333333335"
            ]
          },
          "metadata": {},
          "execution_count": 2
        }
      ]
    },
    {
      "cell_type": "markdown",
      "source": [
        "Bài 1c"
      ],
      "metadata": {
        "id": "lnJW8JMAMMRf"
      }
    },
    {
      "cell_type": "code",
      "source": [
        "import sympy\n",
        "from sympy import Symbol\n",
        "x = Symbol('x')\n",
        "y = x + 1\n",
        "y.subs(x, 14)"
      ],
      "metadata": {
        "colab": {
          "base_uri": "https://localhost:8080/",
          "height": 38
        },
        "id": "FJZkEKFwM2PO",
        "outputId": "2c3b14c8-7f3c-47ea-dfd5-b901cac6b3ce"
      },
      "execution_count": 3,
      "outputs": [
        {
          "output_type": "execute_result",
          "data": {
            "text/plain": [
              "15"
            ],
            "text/latex": "$\\displaystyle 15$"
          },
          "metadata": {},
          "execution_count": 3
        }
      ]
    },
    {
      "cell_type": "markdown",
      "source": [
        "Bài 1d"
      ],
      "metadata": {
        "id": "7T6gQoOaMOZx"
      }
    },
    {
      "cell_type": "code",
      "source": [
        "import sympy\n",
        "from sympy import Symbol\n",
        "x = Symbol('x')\n",
        "from sympy import pi\n",
        "z = pi - 18*x\n",
        "z.subs(x, y)"
      ],
      "metadata": {
        "colab": {
          "base_uri": "https://localhost:8080/",
          "height": 39
        },
        "id": "qUES9XmiM5yq",
        "outputId": "fa4eb459-1883-4b07-a6f7-fdd974c89441"
      },
      "execution_count": 4,
      "outputs": [
        {
          "output_type": "execute_result",
          "data": {
            "text/plain": [
              "-18*x - 18 + pi"
            ],
            "text/latex": "$\\displaystyle - 18 x - 18 + \\pi$"
          },
          "metadata": {},
          "execution_count": 4
        }
      ]
    },
    {
      "cell_type": "code",
      "source": [
        "t = Symbol('t')\n",
        "z = pi - 18*x\n",
        "z.subs(x, t)"
      ],
      "metadata": {
        "colab": {
          "base_uri": "https://localhost:8080/",
          "height": 39
        },
        "id": "44mCAgcmNBPu",
        "outputId": "9e1b0532-f174-4d26-eeaf-f86e66d3a8d7"
      },
      "execution_count": 5,
      "outputs": [
        {
          "output_type": "execute_result",
          "data": {
            "text/plain": [
              "pi - 18*t"
            ],
            "text/latex": "$\\displaystyle \\pi - 18 t$"
          },
          "metadata": {},
          "execution_count": 5
        }
      ]
    },
    {
      "cell_type": "markdown",
      "source": [
        "Bài 2"
      ],
      "metadata": {
        "id": "cS-EaqN_MSUq"
      }
    },
    {
      "cell_type": "code",
      "source": [
        "from sympy import solve, sin\n",
        "x = Symbol('x')\n",
        "y = Symbol('y')"
      ],
      "metadata": {
        "id": "d252SYM0M-aQ"
      },
      "execution_count": 6,
      "outputs": []
    },
    {
      "cell_type": "code",
      "source": [
        "solve(x-1,x)"
      ],
      "metadata": {
        "colab": {
          "base_uri": "https://localhost:8080/"
        },
        "id": "hFD6BmRrNF7A",
        "outputId": "c279173a-3583-4ca0-bb6e-446105dae655"
      },
      "execution_count": 7,
      "outputs": [
        {
          "output_type": "execute_result",
          "data": {
            "text/plain": [
              "[1]"
            ]
          },
          "metadata": {},
          "execution_count": 7
        }
      ]
    },
    {
      "cell_type": "code",
      "source": [
        "solve(x**2-1,x)"
      ],
      "metadata": {
        "colab": {
          "base_uri": "https://localhost:8080/"
        },
        "id": "C2AWQAL8NInh",
        "outputId": "94298254-b4fd-4446-b5e7-ff0431cd24f0"
      },
      "execution_count": 8,
      "outputs": [
        {
          "output_type": "execute_result",
          "data": {
            "text/plain": [
              "[-1, 1]"
            ]
          },
          "metadata": {},
          "execution_count": 8
        }
      ]
    },
    {
      "cell_type": "code",
      "source": [
        "solve(x**2+1,x)"
      ],
      "metadata": {
        "colab": {
          "base_uri": "https://localhost:8080/"
        },
        "id": "kBSVOAzPNLOE",
        "outputId": "9c8755a7-4df7-4456-a3c9-2a7b68b78a50"
      },
      "execution_count": 9,
      "outputs": [
        {
          "output_type": "execute_result",
          "data": {
            "text/plain": [
              "[-I, I]"
            ]
          },
          "metadata": {},
          "execution_count": 9
        }
      ]
    },
    {
      "cell_type": "code",
      "source": [
        "solve(sin(x),x)"
      ],
      "metadata": {
        "colab": {
          "base_uri": "https://localhost:8080/"
        },
        "id": "RL4OF5UvNNRa",
        "outputId": "0a27f5b3-fe35-45be-8e8b-ebc85546ac6d"
      },
      "execution_count": 10,
      "outputs": [
        {
          "output_type": "execute_result",
          "data": {
            "text/plain": [
              "[0, pi]"
            ]
          },
          "metadata": {},
          "execution_count": 10
        }
      ]
    },
    {
      "cell_type": "markdown",
      "source": [
        "Bài 3"
      ],
      "metadata": {
        "id": "mMosvi4TMTuA"
      }
    },
    {
      "cell_type": "code",
      "source": [
        "from sympy import solveset\n",
        "solveset(sin(x),x)"
      ],
      "metadata": {
        "colab": {
          "base_uri": "https://localhost:8080/",
          "height": 39
        },
        "id": "yIDjm608NQub",
        "outputId": "151d660f-d012-4d8e-b8c1-a189da4ffa26"
      },
      "execution_count": 11,
      "outputs": [
        {
          "output_type": "execute_result",
          "data": {
            "text/plain": [
              "Union(ImageSet(Lambda(_n, 2*_n*pi + pi), Integers), ImageSet(Lambda(_n, 2*_n*pi), Integers))"
            ],
            "text/latex": "$\\displaystyle \\left\\{2 n \\pi\\; |\\; n \\in \\mathbb{Z}\\right\\} \\cup \\left\\{2 n \\pi + \\pi\\; |\\; n \\in \\mathbb{Z}\\right\\}$"
          },
          "metadata": {},
          "execution_count": 11
        }
      ]
    },
    {
      "cell_type": "markdown",
      "source": [
        "Bài 4"
      ],
      "metadata": {
        "id": "m-1ooM7kMVD4"
      }
    },
    {
      "cell_type": "code",
      "source": [
        "from sympy import solveset, S\n",
        "from sympy.abc import x, y, z"
      ],
      "metadata": {
        "id": "fOvTxQH-NV4S"
      },
      "execution_count": 12,
      "outputs": []
    },
    {
      "cell_type": "code",
      "source": [
        "solveset(x**2 + 1, x) # mac dinh la mien so phuc: domain = S.Complexes"
      ],
      "metadata": {
        "colab": {
          "base_uri": "https://localhost:8080/",
          "height": 39
        },
        "id": "hBdTajWINXG9",
        "outputId": "bfca76b8-0463-49a2-c81e-887605046803"
      },
      "execution_count": 13,
      "outputs": [
        {
          "output_type": "execute_result",
          "data": {
            "text/plain": [
              "FiniteSet(I, -I)"
            ],
            "text/latex": "$\\displaystyle \\left\\{- i, i\\right\\}$"
          },
          "metadata": {},
          "execution_count": 13
        }
      ]
    },
    {
      "cell_type": "code",
      "source": [
        "solveset(x**2 + 1, x, domain = S.Reals) # mien so thuc"
      ],
      "metadata": {
        "colab": {
          "base_uri": "https://localhost:8080/",
          "height": 38
        },
        "id": "ua2_GPKwNbck",
        "outputId": "4c2fb295-a2a6-4c37-aaca-bb500a4c6f52"
      },
      "execution_count": 14,
      "outputs": [
        {
          "output_type": "execute_result",
          "data": {
            "text/plain": [
              "EmptySet"
            ],
            "text/latex": "$\\displaystyle \\emptyset$"
          },
          "metadata": {},
          "execution_count": 14
        }
      ]
    },
    {
      "cell_type": "markdown",
      "source": [
        "Bài 5"
      ],
      "metadata": {
        "id": "E0daYEWPMYDL"
      }
    },
    {
      "cell_type": "code",
      "source": [
        "from sympy import solveset, S\n",
        "from sympy.abc import x, y, z\n",
        "from sympy import E"
      ],
      "metadata": {
        "id": "pYMMu5WRNe40"
      },
      "execution_count": 15,
      "outputs": []
    },
    {
      "cell_type": "code",
      "source": [
        "solveset(e**x - , x) # mac dinh la mien so phuc: domain = S.Complexes"
      ],
      "metadata": {
        "colab": {
          "base_uri": "https://localhost:8080/",
          "height": 165
        },
        "id": "BEqXrnXbNgAf",
        "outputId": "83a3d5d9-a0d7-4d57-dce0-34db9aa51d85"
      },
      "execution_count": 39,
      "outputs": [
        {
          "output_type": "error",
          "ename": "NameError",
          "evalue": "ignored",
          "traceback": [
            "\u001b[0;31m---------------------------------------------------------------------------\u001b[0m",
            "\u001b[0;31mNameError\u001b[0m                                 Traceback (most recent call last)",
            "\u001b[0;32m<ipython-input-39-5192c4fcf01e>\u001b[0m in \u001b[0;36m<module>\u001b[0;34m()\u001b[0m\n\u001b[0;32m----> 1\u001b[0;31m \u001b[0msolveset\u001b[0m\u001b[0;34m(\u001b[0m\u001b[0me\u001b[0m\u001b[0;34m**\u001b[0m\u001b[0mx\u001b[0m \u001b[0;34m-\u001b[0m \u001b[0mi\u001b[0m\u001b[0;34m,\u001b[0m \u001b[0mx\u001b[0m\u001b[0;34m)\u001b[0m \u001b[0;31m# mac dinh la mien so phuc: domain = S.Complexes\u001b[0m\u001b[0;34m\u001b[0m\u001b[0;34m\u001b[0m\u001b[0m\n\u001b[0m",
            "\u001b[0;31mNameError\u001b[0m: name 'e' is not defined"
          ]
        }
      ]
    },
    {
      "cell_type": "code",
      "source": [
        "solveset(E**x-1, x) # mac dinh la mien so phuc: domain = S.Complexes"
      ],
      "metadata": {
        "colab": {
          "base_uri": "https://localhost:8080/",
          "height": 39
        },
        "id": "DG6jFZJDNipu",
        "outputId": "fd27deb6-5eb7-41c6-ace2-c7a8720a8211"
      },
      "execution_count": 17,
      "outputs": [
        {
          "output_type": "execute_result",
          "data": {
            "text/plain": [
              "ImageSet(Lambda(_n, 2*_n*I*pi), Integers)"
            ],
            "text/latex": "$\\displaystyle \\left\\{2 n i \\pi\\; |\\; n \\in \\mathbb{Z}\\right\\}$"
          },
          "metadata": {},
          "execution_count": 17
        }
      ]
    },
    {
      "cell_type": "code",
      "source": [
        "solveset(E**x-1, x, domain = S.Reals)"
      ],
      "metadata": {
        "colab": {
          "base_uri": "https://localhost:8080/",
          "height": 38
        },
        "id": "3MSYhcEeNm3H",
        "outputId": "7ed00cbc-1774-4d11-b979-595e7c436e75"
      },
      "execution_count": 18,
      "outputs": [
        {
          "output_type": "execute_result",
          "data": {
            "text/plain": [
              "FiniteSet(0)"
            ],
            "text/latex": "$\\displaystyle \\left\\{0\\right\\}$"
          },
          "metadata": {},
          "execution_count": 18
        }
      ]
    },
    {
      "cell_type": "markdown",
      "source": [
        "Bài 6"
      ],
      "metadata": {
        "id": "fKuq-rSuMZhK"
      }
    },
    {
      "cell_type": "code",
      "source": [
        "solveset((sin(x)+x)*(x**2-9), x, domain = S.Reals)"
      ],
      "metadata": {
        "colab": {
          "base_uri": "https://localhost:8080/",
          "height": 39
        },
        "id": "dEaqtfotNoC1",
        "outputId": "05126c74-6288-4572-fab1-15511c50748d"
      },
      "execution_count": 19,
      "outputs": [
        {
          "output_type": "execute_result",
          "data": {
            "text/plain": [
              "Union(ConditionSet(x, Eq(x + sin(x), 0), Reals), FiniteSet(-3, 3))"
            ],
            "text/latex": "$\\displaystyle \\left\\{-3, 3\\right\\} \\cup \\left\\{x \\mid x \\in \\mathbb{R} \\wedge x + \\sin{\\left(x \\right)} = 0 \\right\\}$"
          },
          "metadata": {},
          "execution_count": 19
        }
      ]
    },
    {
      "cell_type": "markdown",
      "source": [
        "Bài 7"
      ],
      "metadata": {
        "id": "p2h7dH3iMcfU"
      }
    },
    {
      "cell_type": "code",
      "source": [
        "from sympy import exp, S\n",
        "solveset(exp(x) > 1, x, domain = S.Reals)"
      ],
      "metadata": {
        "colab": {
          "base_uri": "https://localhost:8080/",
          "height": 38
        },
        "id": "jubjOsVONsZe",
        "outputId": "122f4835-e144-45f0-8c12-4cbd713e1389"
      },
      "execution_count": 20,
      "outputs": [
        {
          "output_type": "execute_result",
          "data": {
            "text/plain": [
              "Interval.open(0, oo)"
            ],
            "text/latex": "$\\displaystyle \\left(0, \\infty\\right)$"
          },
          "metadata": {},
          "execution_count": 20
        }
      ]
    },
    {
      "cell_type": "code",
      "source": [
        "solveset(E**x > 1, x, domain = S.Reals)"
      ],
      "metadata": {
        "colab": {
          "base_uri": "https://localhost:8080/",
          "height": 38
        },
        "id": "SwzRhjnSNwr3",
        "outputId": "6adb84f0-c24b-4165-8e5c-9b13fce0adc0"
      },
      "execution_count": 21,
      "outputs": [
        {
          "output_type": "execute_result",
          "data": {
            "text/plain": [
              "Interval.open(0, oo)"
            ],
            "text/latex": "$\\displaystyle \\left(0, \\infty\\right)$"
          },
          "metadata": {},
          "execution_count": 21
        }
      ]
    },
    {
      "cell_type": "code",
      "source": [
        "solveset(E**x > E, x, domain = S.Reals)"
      ],
      "metadata": {
        "colab": {
          "base_uri": "https://localhost:8080/",
          "height": 38
        },
        "id": "LXi0SlYWNzOy",
        "outputId": "7d221579-4f5a-4814-ade8-3717b2d63075"
      },
      "execution_count": 22,
      "outputs": [
        {
          "output_type": "execute_result",
          "data": {
            "text/plain": [
              "Interval.open(1, oo)"
            ],
            "text/latex": "$\\displaystyle \\left(1, \\infty\\right)$"
          },
          "metadata": {},
          "execution_count": 22
        }
      ]
    },
    {
      "cell_type": "code",
      "source": [
        "R = S.Reals\n",
        "solveset(E**x > E, x, R)"
      ],
      "metadata": {
        "colab": {
          "base_uri": "https://localhost:8080/",
          "height": 38
        },
        "id": "tAkvTiX8N2JT",
        "outputId": "026ef62a-3e79-492d-8473-641d5315d107"
      },
      "execution_count": 23,
      "outputs": [
        {
          "output_type": "execute_result",
          "data": {
            "text/plain": [
              "Interval.open(1, oo)"
            ],
            "text/latex": "$\\displaystyle \\left(1, \\infty\\right)$"
          },
          "metadata": {},
          "execution_count": 23
        }
      ]
    },
    {
      "cell_type": "markdown",
      "source": [
        "Bài 8"
      ],
      "metadata": {
        "id": "IDzNFUAKMeYa"
      }
    },
    {
      "cell_type": "code",
      "source": [
        "from sympy import Derivative, Symbol, solve\n",
        "x = Symbol('x')\n",
        "y = Symbol('y')\n",
        "z = Symbol('z')\n",
        "f = 4*x*y - 8*x - 5 + z*(x+y-50) \n",
        "dx = Derivative(f, x).doit()\n",
        "dy = Derivative(f, y).doit()\n",
        "dz = Derivative(f, z).doit()"
      ],
      "metadata": {
        "id": "r7-mfheVN95S"
      },
      "execution_count": 25,
      "outputs": []
    },
    {
      "cell_type": "code",
      "source": [
        "nghiem = solve([dx, dy, dz], (x,y,z))\n",
        "print (nghiem)"
      ],
      "metadata": {
        "colab": {
          "base_uri": "https://localhost:8080/"
        },
        "id": "KSMBkdFqOEne",
        "outputId": "30fa755a-0a88-4310-ce9d-4c82089698d6"
      },
      "execution_count": 26,
      "outputs": [
        {
          "output_type": "stream",
          "name": "stdout",
          "text": [
            "{x: 24, y: 26, z: -96}\n"
          ]
        }
      ]
    },
    {
      "cell_type": "code",
      "source": [
        "xx = nghiem[x]\n",
        "yy = nghiem[y]\n",
        "4*xx*yy - 8*xx - 5"
      ],
      "metadata": {
        "colab": {
          "base_uri": "https://localhost:8080/",
          "height": 38
        },
        "id": "3QCiMsd1OI0E",
        "outputId": "de909593-04d0-4adb-9981-0285892296cf"
      },
      "execution_count": 28,
      "outputs": [
        {
          "output_type": "execute_result",
          "data": {
            "text/plain": [
              "2299"
            ],
            "text/latex": "$\\displaystyle 2299$"
          },
          "metadata": {},
          "execution_count": 28
        }
      ]
    },
    {
      "cell_type": "code",
      "source": [
        "ketqua = 4*nghiem[x]* nghiem[y] - 8* nghiem[x] - 5\n",
        "print (ketqua)"
      ],
      "metadata": {
        "colab": {
          "base_uri": "https://localhost:8080/"
        },
        "id": "U2Pfp5NFOOUu",
        "outputId": "60bc4993-8973-4eb2-e031-267bce3e467e"
      },
      "execution_count": 29,
      "outputs": [
        {
          "output_type": "stream",
          "name": "stdout",
          "text": [
            "2299\n"
          ]
        }
      ]
    }
  ]
}